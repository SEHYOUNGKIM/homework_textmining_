{
  "nbformat": 4,
  "nbformat_minor": 0,
  "metadata": {
    "colab": {
      "provenance": [],
      "authorship_tag": "ABX9TyPVU9p1ogS7Wa80M/eXNoib",
      "include_colab_link": true
    },
    "kernelspec": {
      "name": "python3",
      "display_name": "Python 3"
    },
    "language_info": {
      "name": "python"
    }
  },
  "cells": [
    {
      "cell_type": "markdown",
      "metadata": {
        "id": "view-in-github",
        "colab_type": "text"
      },
      "source": [
        "<a href=\"https://colab.research.google.com/github/SEHYOUNGKIM/homework_textmining_/blob/main/code_0827.ipynb\" target=\"_parent\"><img src=\"https://colab.research.google.com/assets/colab-badge.svg\" alt=\"Open In Colab\"/></a>"
      ]
    },
    {
      "cell_type": "code",
      "execution_count": null,
      "metadata": {
        "id": "N244qPfcSMIJ"
      },
      "outputs": [],
      "source": [
        "import pandas as pd"
      ]
    },
    {
      "cell_type": "code",
      "source": [
        "import numpy as np"
      ],
      "metadata": {
        "id": "vPM28yhsSfSr"
      },
      "execution_count": null,
      "outputs": []
    },
    {
      "cell_type": "code",
      "source": [
        "!nvidia-smi"
      ],
      "metadata": {
        "id": "qX6k80O5Shrg",
        "colab": {
          "base_uri": "https://localhost:8080/"
        },
        "outputId": "24a70c99-6496-4e4a-cbef-d47a94e568ff"
      },
      "execution_count": null,
      "outputs": [
        {
          "output_type": "stream",
          "name": "stdout",
          "text": [
            "/bin/bash: line 1: nvidia-smi: command not found\n"
          ]
        }
      ]
    },
    {
      "cell_type": "code",
      "source": [
        "a = 1\n",
        "print(a)"
      ],
      "metadata": {
        "colab": {
          "base_uri": "https://localhost:8080/"
        },
        "id": "hzDU5n2jTn7C",
        "outputId": "3749e0a4-9cc1-421c-af05-ca7a2795f46c"
      },
      "execution_count": null,
      "outputs": [
        {
          "output_type": "stream",
          "name": "stdout",
          "text": [
            "1\n"
          ]
        }
      ]
    },
    {
      "cell_type": "code",
      "source": [],
      "metadata": {
        "id": "XzpXXKh7T3-E"
      },
      "execution_count": null,
      "outputs": []
    },
    {
      "cell_type": "markdown",
      "source": [
        "# 가장 큰 제목\n",
        "\n",
        "## 두 번째로 큰 제목\n",
        "\n",
        "### 세 번째로 큰 제목"
      ],
      "metadata": {
        "id": "u3PNmfGKT5UY"
      }
    },
    {
      "cell_type": "code",
      "source": [],
      "metadata": {
        "id": "T52SVRffT9cL"
      },
      "execution_count": null,
      "outputs": []
    },
    {
      "cell_type": "markdown",
      "source": [
        "\n",
        "\n",
        "1.   항목 추가 ⌨\n",
        "\n",
        "*   항목 추가\n",
        "*   항목 추가\n",
        "\n",
        "\n",
        "\n",
        "---\n",
        "\n",
        "\n",
        "```\n",
        "# 코드로 형식 지정됨\n",
        "\n",
        "a = 1\n",
        "print(a)\n",
        "\n",
        "```\n",
        "\n",
        "\n",
        "\n",
        "\n",
        "2.   항목 추가\n",
        "\n"
      ],
      "metadata": {
        "id": "TQg51HyHUA-c"
      }
    },
    {
      "cell_type": "code",
      "source": [],
      "metadata": {
        "id": "34hzgdZmUN1T"
      },
      "execution_count": null,
      "outputs": []
    }
  ]
}